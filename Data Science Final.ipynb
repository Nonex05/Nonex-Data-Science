{
 "cells": [
  {
   "cell_type": "markdown",
   "id": "c327107b-80de-474c-9603-d3f4c89b5239",
   "metadata": {},
   "source": [
    "# My Jupyter Notebook on IBM Watson Studio"
   ]
  },
  {
   "cell_type": "markdown",
   "id": "2930344a-7421-4132-89b7-0e08d1bf5b66",
   "metadata": {},
   "source": [
    "**Emilio Cañonero, Jr.**  \n",
    "Chemist"
   ]
  },
  {
   "cell_type": "markdown",
   "id": "ca2903cb-2cde-4a07-a070-8dfc1b90d90e",
   "metadata": {},
   "source": [
    "*I am interested in data science because it can help me analyze data better and provide better solution in the future*"
   ]
  },
  {
   "cell_type": "markdown",
   "id": "514fbe82-f140-42aa-b31c-246b3d9aa87e",
   "metadata": {},
   "source": [
    "### The code will print \"Hello, I am Emilio\""
   ]
  },
  {
   "cell_type": "code",
   "execution_count": 3,
   "id": "f43b6fe7-9c32-4f52-a5a6-b3a9c5a2b151",
   "metadata": {},
   "outputs": [
    {
     "name": "stdout",
     "output_type": "stream",
     "text": [
      "Hello, I am Emilio\n"
     ]
    }
   ],
   "source": [
    "print (\"Hello, I am Emilio\")"
   ]
  },
  {
   "cell_type": "markdown",
   "id": "60ec29fe-629c-4914-abcb-5e7c9b6180b1",
   "metadata": {},
   "source": [
    "# DATA SCIENCE\n",
    "***\n",
    "by Emilio Cañonero, Jr.\n",
    "\n",
    "| **FOODS | *Calories* |\n",
    "| ------- | :--------: |\n",
    "| Chocolate | ~~120~~ |\n",
    "| Juice | 100 |\n",
    "| Pie | 150 |\n",
    "***\n",
    "## How to b healthy?\n",
    "1. Exercise\n",
    "2. Eat Healthy"
   ]
  },
  {
   "cell_type": "code",
   "execution_count": null,
   "id": "cb7f1b8f-bc1b-4a1c-8be6-ee1778d61915",
   "metadata": {},
   "outputs": [],
   "source": []
  }
 ],
 "metadata": {
  "kernelspec": {
   "display_name": "Python",
   "language": "python",
   "name": "conda-env-python-py"
  },
  "language_info": {
   "codemirror_mode": {
    "name": "ipython",
    "version": 3
   },
   "file_extension": ".py",
   "mimetype": "text/x-python",
   "name": "python",
   "nbconvert_exporter": "python",
   "pygments_lexer": "ipython3",
   "version": "3.7.12"
  }
 },
 "nbformat": 4,
 "nbformat_minor": 5
}
